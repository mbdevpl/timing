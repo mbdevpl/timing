{
 "cells": [
  {
   "cell_type": "markdown",
   "metadata": {},
   "source": [
    "# `timing` package examples"
   ]
  },
  {
   "cell_type": "markdown",
   "metadata": {},
   "source": [
    "## initialization"
   ]
  },
  {
   "cell_type": "code",
   "execution_count": 1,
   "metadata": {},
   "outputs": [],
   "source": [
    "import timing\n",
    "\n",
    "_TIME = timing.get_timing_group(__name__)  # type: timing.TimingGroup"
   ]
  },
  {
   "cell_type": "code",
   "execution_count": 2,
   "metadata": {},
   "outputs": [],
   "source": [
    "import logging\n",
    "\n",
    "_LOG = logging.getLogger(__name__)"
   ]
  },
  {
   "cell_type": "code",
   "execution_count": 3,
   "metadata": {},
   "outputs": [],
   "source": [
    "import time\n",
    "\n",
    "def spam():\n",
    "    time.sleep(0.1)\n",
    "\n",
    "def more_spam():\n",
    "    time.sleep(0.2)\n",
    "\n",
    "def ham():\n",
    "    time.sleep(0.3)\n",
    "\n",
    "def more_ham():\n",
    "    time.sleep(0.4)\n",
    "\n",
    "def eggs():\n",
    "    time.sleep(0.0005)\n",
    "\n",
    "def more_eggs():\n",
    "    time.sleep(0.0006)\n",
    "\n",
    "def bacon():\n",
    "    time.sleep(0.0007)\n",
    "\n",
    "def more_bacon():\n",
    "    time.sleep(0.0008)\n",
    "\n",
    "def tomatoes():\n",
    "    time.sleep(0.0009)\n",
    "\n",
    "def more_tomatoes():\n",
    "    time.sleep(0.0010)"
   ]
  },
  {
   "cell_type": "markdown",
   "metadata": {},
   "source": [
    "## measurements"
   ]
  },
  {
   "cell_type": "code",
   "execution_count": 4,
   "metadata": {},
   "outputs": [],
   "source": [
    "timer = _TIME.start('spam')  # type: timing.Timing\n",
    "spam()\n",
    "more_spam()\n",
    "timer.stop()"
   ]
  },
  {
   "cell_type": "code",
   "execution_count": 5,
   "metadata": {},
   "outputs": [],
   "source": [
    "with _TIME.measure('ham') as timer:  # type: timing.Timing\n",
    "    ham()\n",
    "    more_ham()"
   ]
  },
  {
   "cell_type": "code",
   "execution_count": 6,
   "metadata": {},
   "outputs": [],
   "source": [
    "for timer in _TIME.measure_many('eggs', samples=1000):  # type: timing.Timing\n",
    "    eggs()\n",
    "    more_eggs()"
   ]
  },
  {
   "cell_type": "code",
   "execution_count": 7,
   "metadata": {},
   "outputs": [],
   "source": [
    "for timer in _TIME.measure_many('bacon', threshold=0.5):  # type: timing.Timing\n",
    "    bacon()\n",
    "    more_bacon()"
   ]
  },
  {
   "cell_type": "code",
   "execution_count": 8,
   "metadata": {},
   "outputs": [],
   "source": [
    "for timer in _TIME.measure_many('tomatoes', samples=500, threshold=0.5):  # type: timing.Timing\n",
    "    tomatoes()\n",
    "    more_tomatoes()"
   ]
  },
  {
   "cell_type": "markdown",
   "metadata": {},
   "source": [
    "## statistics"
   ]
  },
  {
   "cell_type": "code",
   "execution_count": null,
   "metadata": {},
   "outputs": [],
   "source": []
  }
 ],
 "metadata": {
  "kernelspec": {
   "display_name": "Python 3",
   "language": "python",
   "name": "python3"
  },
  "language_info": {
   "codemirror_mode": {
    "name": "ipython",
    "version": 3
   },
   "file_extension": ".py",
   "mimetype": "text/x-python",
   "name": "python",
   "nbconvert_exporter": "python",
   "pygments_lexer": "ipython3",
   "version": "3.6.1"
  }
 },
 "nbformat": 4,
 "nbformat_minor": 2
}
